{
 "cells": [
  {
   "cell_type": "markdown",
   "metadata": {
    "toc": true
   },
   "source": [
    "<h1>Содержание<span class=\"tocSkip\"></span></h1>\n",
    "<div class=\"toc\"><ul class=\"toc-item\"><li><span><a href=\"#Подготовка-данных\" data-toc-modified-id=\"Подготовка-данных-1\"><span class=\"toc-item-num\">1&nbsp;&nbsp;</span>Подготовка данных</a></span></li><li><span><a href=\"#Исследование-задачи\" data-toc-modified-id=\"Исследование-задачи-2\"><span class=\"toc-item-num\">2&nbsp;&nbsp;</span>Исследование задачи</a></span><ul class=\"toc-item\"><li><span><a href=\"#Дерево-решений\" data-toc-modified-id=\"Дерево-решений-2.1\"><span class=\"toc-item-num\">2.1&nbsp;&nbsp;</span>Дерево решений</a></span></li><li><span><a href=\"#Случайный-лес\" data-toc-modified-id=\"Случайный-лес-2.2\"><span class=\"toc-item-num\">2.2&nbsp;&nbsp;</span>Случайный лес</a></span></li><li><span><a href=\"#Логистическая-регрессия\" data-toc-modified-id=\"Логистическая-регрессия-2.3\"><span class=\"toc-item-num\">2.3&nbsp;&nbsp;</span>Логистическая регрессия</a></span></li><li><span><a href=\"#Вывод\" data-toc-modified-id=\"Вывод-2.4\"><span class=\"toc-item-num\">2.4&nbsp;&nbsp;</span>Вывод</a></span></li></ul></li><li><span><a href=\"#Борьба-с-дисбалансом\" data-toc-modified-id=\"Борьба-с-дисбалансом-3\"><span class=\"toc-item-num\">3&nbsp;&nbsp;</span>Борьба с дисбалансом</a></span><ul class=\"toc-item\"><li><span><a href=\"#Взвешивание-классов\" data-toc-modified-id=\"Взвешивание-классов-3.1\"><span class=\"toc-item-num\">3.1&nbsp;&nbsp;</span>Взвешивание классов</a></span></li><li><span><a href=\"#Увеличение-и-уменьшение-выборок\" data-toc-modified-id=\"Увеличение-и-уменьшение-выборок-3.2\"><span class=\"toc-item-num\">3.2&nbsp;&nbsp;</span>Увеличение и уменьшение выборок</a></span></li></ul></li><li><span><a href=\"#Тестирование-модели\" data-toc-modified-id=\"Тестирование-модели-4\"><span class=\"toc-item-num\">4&nbsp;&nbsp;</span>Тестирование модели</a></span><ul class=\"toc-item\"><li><span><a href=\"#Вывод\" data-toc-modified-id=\"Вывод-4.1\"><span class=\"toc-item-num\">4.1&nbsp;&nbsp;</span>Вывод</a></span></li></ul></li><li><span><a href=\"#Чек-лист-готовности-проекта\" data-toc-modified-id=\"Чек-лист-готовности-проекта-5\"><span class=\"toc-item-num\">5&nbsp;&nbsp;</span>Чек-лист готовности проекта</a></span></li></ul></div>"
   ]
  },
  {
   "cell_type": "markdown",
   "metadata": {},
   "source": [
    "# Отток клиентов"
   ]
  },
  {
   "cell_type": "markdown",
   "metadata": {},
   "source": [
    "Из «Бета-Банка» стали уходить клиенты. Каждый месяц. Немного, но заметно. Банковские маркетологи посчитали: сохранять текущих клиентов дешевле, чем привлекать новых.\n",
    "\n",
    "Нужно спрогнозировать, уйдёт клиент из банка в ближайшее время или нет. Вам предоставлены исторические данные о поведении клиентов и расторжении договоров с банком. \n",
    "\n",
    "Постройте модель с предельно большим значением *F1*-меры. Чтобы сдать проект успешно, нужно довести метрику до 0.59. Проверьте *F1*-меру на тестовой выборке самостоятельно.\n",
    "\n",
    "Дополнительно измеряйте *AUC-ROC*, сравнивайте её значение с *F1*-мерой.\n",
    "\n",
    "Источник данных: [https://www.kaggle.com/barelydedicated/bank-customer-churn-modeling](https://www.kaggle.com/barelydedicated/bank-customer-churn-modeling)"
   ]
  },
  {
   "cell_type": "markdown",
   "metadata": {},
   "source": [
    "**Признаки**\n",
    "* `RowNumber` — индекс строки в данных\n",
    "* `CustomerId` — уникальный идентификатор клиента\n",
    "* `Surname` — фамилия\n",
    "* `CreditScore` — кредитный рейтинг\n",
    "* `Geography` — страна проживания\n",
    "* `Gender` — пол\n",
    "* `Age` — возраст\n",
    "* `Tenure` — сколько лет человек является клиентом банка\n",
    "* `Balance` — баланс на счёте\n",
    "* `NumOfProducts` — количество продуктов банка, используемых клиентом\n",
    "* `HasCrCard` — наличие кредитной карты\n",
    "* `IsActiveMember` — активность клиента\n",
    "* `EstimatedSalary` — предполагаемая зарплата\n",
    "\n",
    "**Целевой признак**\n",
    "* `Exited` — факт ухода клиента"
   ]
  },
  {
   "cell_type": "markdown",
   "metadata": {},
   "source": [
    "## Подготовка данных"
   ]
  },
  {
   "cell_type": "markdown",
   "metadata": {},
   "source": [
    "Импорт библиотек."
   ]
  },
  {
   "cell_type": "code",
   "execution_count": 1,
   "metadata": {},
   "outputs": [],
   "source": [
    "import pandas as pd\n",
    "import numpy as np\n",
    "import matplotlib.pyplot as plt\n",
    "import seaborn as sns\n",
    "pd.options.mode.chained_assignment = None\n",
    "\n",
    "from sklearn.preprocessing import StandardScaler \n",
    "from sklearn.model_selection import train_test_split\n",
    "from sklearn.tree import DecisionTreeClassifier, DecisionTreeRegressor\n",
    "from sklearn.ensemble import RandomForestClassifier\n",
    "from sklearn.linear_model import LogisticRegression\n",
    "from sklearn.metrics import f1_score, roc_auc_score, r2_score\n",
    "from sklearn.utils import shuffle\n",
    "from matplotlib import pyplot"
   ]
  },
  {
   "cell_type": "markdown",
   "metadata": {},
   "source": [
    "Вывод датасета."
   ]
  },
  {
   "cell_type": "code",
   "execution_count": 2,
   "metadata": {
    "scrolled": false
   },
   "outputs": [
    {
     "data": {
      "text/html": [
       "<div>\n",
       "<style scoped>\n",
       "    .dataframe tbody tr th:only-of-type {\n",
       "        vertical-align: middle;\n",
       "    }\n",
       "\n",
       "    .dataframe tbody tr th {\n",
       "        vertical-align: top;\n",
       "    }\n",
       "\n",
       "    .dataframe thead th {\n",
       "        text-align: right;\n",
       "    }\n",
       "</style>\n",
       "<table border=\"1\" class=\"dataframe\">\n",
       "  <thead>\n",
       "    <tr style=\"text-align: right;\">\n",
       "      <th></th>\n",
       "      <th>RowNumber</th>\n",
       "      <th>CustomerId</th>\n",
       "      <th>Surname</th>\n",
       "      <th>CreditScore</th>\n",
       "      <th>Geography</th>\n",
       "      <th>Gender</th>\n",
       "      <th>Age</th>\n",
       "      <th>Tenure</th>\n",
       "      <th>Balance</th>\n",
       "      <th>NumOfProducts</th>\n",
       "      <th>HasCrCard</th>\n",
       "      <th>IsActiveMember</th>\n",
       "      <th>EstimatedSalary</th>\n",
       "      <th>Exited</th>\n",
       "    </tr>\n",
       "  </thead>\n",
       "  <tbody>\n",
       "    <tr>\n",
       "      <td>1762</td>\n",
       "      <td>1763</td>\n",
       "      <td>15815660</td>\n",
       "      <td>Mazzi</td>\n",
       "      <td>758</td>\n",
       "      <td>France</td>\n",
       "      <td>Female</td>\n",
       "      <td>34</td>\n",
       "      <td>1</td>\n",
       "      <td>154139.45</td>\n",
       "      <td>1</td>\n",
       "      <td>1</td>\n",
       "      <td>1</td>\n",
       "      <td>60728.89</td>\n",
       "      <td>0</td>\n",
       "    </tr>\n",
       "    <tr>\n",
       "      <td>968</td>\n",
       "      <td>969</td>\n",
       "      <td>15641009</td>\n",
       "      <td>Wilhelm</td>\n",
       "      <td>544</td>\n",
       "      <td>France</td>\n",
       "      <td>Male</td>\n",
       "      <td>37</td>\n",
       "      <td>3</td>\n",
       "      <td>84496.71</td>\n",
       "      <td>1</td>\n",
       "      <td>0</td>\n",
       "      <td>0</td>\n",
       "      <td>79972.09</td>\n",
       "      <td>0</td>\n",
       "    </tr>\n",
       "    <tr>\n",
       "      <td>5685</td>\n",
       "      <td>5686</td>\n",
       "      <td>15811565</td>\n",
       "      <td>Cocci</td>\n",
       "      <td>705</td>\n",
       "      <td>Spain</td>\n",
       "      <td>Female</td>\n",
       "      <td>47</td>\n",
       "      <td>3</td>\n",
       "      <td>63488.70</td>\n",
       "      <td>1</td>\n",
       "      <td>0</td>\n",
       "      <td>1</td>\n",
       "      <td>28640.92</td>\n",
       "      <td>1</td>\n",
       "    </tr>\n",
       "    <tr>\n",
       "      <td>4012</td>\n",
       "      <td>4013</td>\n",
       "      <td>15726814</td>\n",
       "      <td>Walton</td>\n",
       "      <td>554</td>\n",
       "      <td>Spain</td>\n",
       "      <td>Male</td>\n",
       "      <td>46</td>\n",
       "      <td>4</td>\n",
       "      <td>0.00</td>\n",
       "      <td>2</td>\n",
       "      <td>0</td>\n",
       "      <td>1</td>\n",
       "      <td>57320.92</td>\n",
       "      <td>0</td>\n",
       "    </tr>\n",
       "    <tr>\n",
       "      <td>8445</td>\n",
       "      <td>8446</td>\n",
       "      <td>15678333</td>\n",
       "      <td>Parry-Okeden</td>\n",
       "      <td>683</td>\n",
       "      <td>France</td>\n",
       "      <td>Female</td>\n",
       "      <td>26</td>\n",
       "      <td>7</td>\n",
       "      <td>0.00</td>\n",
       "      <td>2</td>\n",
       "      <td>1</td>\n",
       "      <td>0</td>\n",
       "      <td>86619.77</td>\n",
       "      <td>0</td>\n",
       "    </tr>\n",
       "    <tr>\n",
       "      <td>1597</td>\n",
       "      <td>1598</td>\n",
       "      <td>15656726</td>\n",
       "      <td>Ch'ien</td>\n",
       "      <td>771</td>\n",
       "      <td>France</td>\n",
       "      <td>Male</td>\n",
       "      <td>32</td>\n",
       "      <td>5</td>\n",
       "      <td>62321.62</td>\n",
       "      <td>1</td>\n",
       "      <td>1</td>\n",
       "      <td>1</td>\n",
       "      <td>40920.59</td>\n",
       "      <td>0</td>\n",
       "    </tr>\n",
       "    <tr>\n",
       "      <td>7037</td>\n",
       "      <td>7038</td>\n",
       "      <td>15789611</td>\n",
       "      <td>Lin</td>\n",
       "      <td>568</td>\n",
       "      <td>Germany</td>\n",
       "      <td>Male</td>\n",
       "      <td>46</td>\n",
       "      <td>8</td>\n",
       "      <td>150836.92</td>\n",
       "      <td>1</td>\n",
       "      <td>0</td>\n",
       "      <td>0</td>\n",
       "      <td>64516.80</td>\n",
       "      <td>1</td>\n",
       "    </tr>\n",
       "    <tr>\n",
       "      <td>8427</td>\n",
       "      <td>8428</td>\n",
       "      <td>15806771</td>\n",
       "      <td>Yefremova</td>\n",
       "      <td>753</td>\n",
       "      <td>France</td>\n",
       "      <td>Female</td>\n",
       "      <td>40</td>\n",
       "      <td>0</td>\n",
       "      <td>3768.69</td>\n",
       "      <td>2</td>\n",
       "      <td>1</td>\n",
       "      <td>0</td>\n",
       "      <td>177065.24</td>\n",
       "      <td>1</td>\n",
       "    </tr>\n",
       "    <tr>\n",
       "      <td>1919</td>\n",
       "      <td>1920</td>\n",
       "      <td>15739858</td>\n",
       "      <td>Otitodilichukwu</td>\n",
       "      <td>618</td>\n",
       "      <td>France</td>\n",
       "      <td>Male</td>\n",
       "      <td>56</td>\n",
       "      <td>7</td>\n",
       "      <td>0.00</td>\n",
       "      <td>1</td>\n",
       "      <td>1</td>\n",
       "      <td>1</td>\n",
       "      <td>142400.27</td>\n",
       "      <td>1</td>\n",
       "    </tr>\n",
       "    <tr>\n",
       "      <td>888</td>\n",
       "      <td>889</td>\n",
       "      <td>15702968</td>\n",
       "      <td>Artemieva</td>\n",
       "      <td>733</td>\n",
       "      <td>Germany</td>\n",
       "      <td>Male</td>\n",
       "      <td>74</td>\n",
       "      <td>3</td>\n",
       "      <td>106545.53</td>\n",
       "      <td>1</td>\n",
       "      <td>1</td>\n",
       "      <td>1</td>\n",
       "      <td>134589.58</td>\n",
       "      <td>0</td>\n",
       "    </tr>\n",
       "  </tbody>\n",
       "</table>\n",
       "</div>"
      ],
      "text/plain": [
       "      RowNumber  CustomerId          Surname  CreditScore Geography  Gender  \\\n",
       "1762       1763    15815660            Mazzi          758    France  Female   \n",
       "968         969    15641009          Wilhelm          544    France    Male   \n",
       "5685       5686    15811565            Cocci          705     Spain  Female   \n",
       "4012       4013    15726814           Walton          554     Spain    Male   \n",
       "8445       8446    15678333     Parry-Okeden          683    France  Female   \n",
       "1597       1598    15656726           Ch'ien          771    France    Male   \n",
       "7037       7038    15789611              Lin          568   Germany    Male   \n",
       "8427       8428    15806771        Yefremova          753    France  Female   \n",
       "1919       1920    15739858  Otitodilichukwu          618    France    Male   \n",
       "888         889    15702968        Artemieva          733   Germany    Male   \n",
       "\n",
       "      Age  Tenure    Balance  NumOfProducts  HasCrCard  IsActiveMember  \\\n",
       "1762   34       1  154139.45              1          1               1   \n",
       "968    37       3   84496.71              1          0               0   \n",
       "5685   47       3   63488.70              1          0               1   \n",
       "4012   46       4       0.00              2          0               1   \n",
       "8445   26       7       0.00              2          1               0   \n",
       "1597   32       5   62321.62              1          1               1   \n",
       "7037   46       8  150836.92              1          0               0   \n",
       "8427   40       0    3768.69              2          1               0   \n",
       "1919   56       7       0.00              1          1               1   \n",
       "888    74       3  106545.53              1          1               1   \n",
       "\n",
       "      EstimatedSalary  Exited  \n",
       "1762         60728.89       0  \n",
       "968          79972.09       0  \n",
       "5685         28640.92       1  \n",
       "4012         57320.92       0  \n",
       "8445         86619.77       0  \n",
       "1597         40920.59       0  \n",
       "7037         64516.80       1  \n",
       "8427        177065.24       1  \n",
       "1919        142400.27       1  \n",
       "888         134589.58       0  "
      ]
     },
     "metadata": {},
     "output_type": "display_data"
    },
    {
     "name": "stdout",
     "output_type": "stream",
     "text": [
      "<class 'pandas.core.frame.DataFrame'>\n",
      "RangeIndex: 10000 entries, 0 to 9999\n",
      "Data columns (total 14 columns):\n",
      "RowNumber          10000 non-null int64\n",
      "CustomerId         10000 non-null int64\n",
      "Surname            10000 non-null object\n",
      "CreditScore        10000 non-null int64\n",
      "Geography          10000 non-null object\n",
      "Gender             10000 non-null object\n",
      "Age                10000 non-null int64\n",
      "Tenure             10000 non-null int64\n",
      "Balance            10000 non-null float64\n",
      "NumOfProducts      10000 non-null int64\n",
      "HasCrCard          10000 non-null int64\n",
      "IsActiveMember     10000 non-null int64\n",
      "EstimatedSalary    10000 non-null float64\n",
      "Exited             10000 non-null int64\n",
      "dtypes: float64(2), int64(9), object(3)\n",
      "memory usage: 1.1+ MB\n"
     ]
    }
   ],
   "source": [
    "df = pd.read_csv('Churn_Modelling.csv')\n",
    "display(df.sample(10))\n",
    "df.info()"
   ]
  },
  {
   "cell_type": "markdown",
   "metadata": {},
   "source": [
    "Пропусков в данных нет.\n",
    "\n",
    "Удалим из датасета столбцы `RowNumber`, `CustomerId`, `Surname` так как они не несут в себе необходимой информации для прогнозирования."
   ]
  },
  {
   "cell_type": "code",
   "execution_count": 3,
   "metadata": {
    "scrolled": false
   },
   "outputs": [],
   "source": [
    "df = df.drop(['RowNumber', 'CustomerId', 'Surname'], axis=1)"
   ]
  },
  {
   "cell_type": "markdown",
   "metadata": {},
   "source": [
    "В данных встречаются категориальные признаки, а именно страна проживания и пол клиента, преобразуем эти столбцы с помощью прямго кодирования."
   ]
  },
  {
   "cell_type": "code",
   "execution_count": 4,
   "metadata": {
    "scrolled": true
   },
   "outputs": [
    {
     "data": {
      "text/html": [
       "<div>\n",
       "<style scoped>\n",
       "    .dataframe tbody tr th:only-of-type {\n",
       "        vertical-align: middle;\n",
       "    }\n",
       "\n",
       "    .dataframe tbody tr th {\n",
       "        vertical-align: top;\n",
       "    }\n",
       "\n",
       "    .dataframe thead th {\n",
       "        text-align: right;\n",
       "    }\n",
       "</style>\n",
       "<table border=\"1\" class=\"dataframe\">\n",
       "  <thead>\n",
       "    <tr style=\"text-align: right;\">\n",
       "      <th></th>\n",
       "      <th>CreditScore</th>\n",
       "      <th>Age</th>\n",
       "      <th>Tenure</th>\n",
       "      <th>Balance</th>\n",
       "      <th>NumOfProducts</th>\n",
       "      <th>HasCrCard</th>\n",
       "      <th>IsActiveMember</th>\n",
       "      <th>EstimatedSalary</th>\n",
       "      <th>Exited</th>\n",
       "      <th>Geography_Germany</th>\n",
       "      <th>Geography_Spain</th>\n",
       "      <th>Gender_Male</th>\n",
       "    </tr>\n",
       "  </thead>\n",
       "  <tbody>\n",
       "    <tr>\n",
       "      <td>6231</td>\n",
       "      <td>631</td>\n",
       "      <td>48</td>\n",
       "      <td>1</td>\n",
       "      <td>106396.48</td>\n",
       "      <td>1</td>\n",
       "      <td>1</td>\n",
       "      <td>1</td>\n",
       "      <td>150661.42</td>\n",
       "      <td>1</td>\n",
       "      <td>1</td>\n",
       "      <td>0</td>\n",
       "      <td>1</td>\n",
       "    </tr>\n",
       "    <tr>\n",
       "      <td>8041</td>\n",
       "      <td>698</td>\n",
       "      <td>50</td>\n",
       "      <td>1</td>\n",
       "      <td>0.00</td>\n",
       "      <td>4</td>\n",
       "      <td>1</td>\n",
       "      <td>0</td>\n",
       "      <td>88566.90</td>\n",
       "      <td>1</td>\n",
       "      <td>0</td>\n",
       "      <td>1</td>\n",
       "      <td>0</td>\n",
       "    </tr>\n",
       "    <tr>\n",
       "      <td>8387</td>\n",
       "      <td>699</td>\n",
       "      <td>44</td>\n",
       "      <td>8</td>\n",
       "      <td>158697.61</td>\n",
       "      <td>1</td>\n",
       "      <td>1</td>\n",
       "      <td>0</td>\n",
       "      <td>107181.22</td>\n",
       "      <td>0</td>\n",
       "      <td>0</td>\n",
       "      <td>0</td>\n",
       "      <td>1</td>\n",
       "    </tr>\n",
       "    <tr>\n",
       "      <td>7533</td>\n",
       "      <td>630</td>\n",
       "      <td>51</td>\n",
       "      <td>0</td>\n",
       "      <td>108449.23</td>\n",
       "      <td>3</td>\n",
       "      <td>0</td>\n",
       "      <td>0</td>\n",
       "      <td>88372.69</td>\n",
       "      <td>1</td>\n",
       "      <td>1</td>\n",
       "      <td>0</td>\n",
       "      <td>0</td>\n",
       "    </tr>\n",
       "    <tr>\n",
       "      <td>2660</td>\n",
       "      <td>767</td>\n",
       "      <td>44</td>\n",
       "      <td>2</td>\n",
       "      <td>152509.25</td>\n",
       "      <td>1</td>\n",
       "      <td>1</td>\n",
       "      <td>1</td>\n",
       "      <td>136915.15</td>\n",
       "      <td>0</td>\n",
       "      <td>0</td>\n",
       "      <td>0</td>\n",
       "      <td>0</td>\n",
       "    </tr>\n",
       "  </tbody>\n",
       "</table>\n",
       "</div>"
      ],
      "text/plain": [
       "      CreditScore  Age  Tenure    Balance  NumOfProducts  HasCrCard  \\\n",
       "6231          631   48       1  106396.48              1          1   \n",
       "8041          698   50       1       0.00              4          1   \n",
       "8387          699   44       8  158697.61              1          1   \n",
       "7533          630   51       0  108449.23              3          0   \n",
       "2660          767   44       2  152509.25              1          1   \n",
       "\n",
       "      IsActiveMember  EstimatedSalary  Exited  Geography_Germany  \\\n",
       "6231               1        150661.42       1                  1   \n",
       "8041               0         88566.90       1                  0   \n",
       "8387               0        107181.22       0                  0   \n",
       "7533               0         88372.69       1                  1   \n",
       "2660               1        136915.15       0                  0   \n",
       "\n",
       "      Geography_Spain  Gender_Male  \n",
       "6231                0            1  \n",
       "8041                1            0  \n",
       "8387                0            1  \n",
       "7533                0            0  \n",
       "2660                0            0  "
      ]
     },
     "execution_count": 4,
     "metadata": {},
     "output_type": "execute_result"
    }
   ],
   "source": [
    "df = pd.get_dummies(df, drop_first=True)\n",
    "df.sample(5)"
   ]
  },
  {
   "cell_type": "markdown",
   "metadata": {},
   "source": [
    "Масштабируем числовые признаки."
   ]
  },
  {
   "cell_type": "markdown",
   "metadata": {},
   "source": [
    "Преобразуем типы `NumOfProducts`, `HasCrCard`, `IsActiveMember`, `Exited` в `int8` для экономии места."
   ]
  },
  {
   "cell_type": "code",
   "execution_count": 6,
   "metadata": {},
   "outputs": [],
   "source": [
    "for column in ['NumOfProducts', 'HasCrCard', 'IsActiveMember', 'Exited']:\n",
    "    df[column] = df[column].astype('int8')"
   ]
  },
  {
   "cell_type": "markdown",
   "metadata": {},
   "source": [
    "Итог предобработки данных."
   ]
  },
  {
   "cell_type": "code",
   "execution_count": 7,
   "metadata": {},
   "outputs": [
    {
     "data": {
      "text/html": [
       "<div>\n",
       "<style scoped>\n",
       "    .dataframe tbody tr th:only-of-type {\n",
       "        vertical-align: middle;\n",
       "    }\n",
       "\n",
       "    .dataframe tbody tr th {\n",
       "        vertical-align: top;\n",
       "    }\n",
       "\n",
       "    .dataframe thead th {\n",
       "        text-align: right;\n",
       "    }\n",
       "</style>\n",
       "<table border=\"1\" class=\"dataframe\">\n",
       "  <thead>\n",
       "    <tr style=\"text-align: right;\">\n",
       "      <th></th>\n",
       "      <th>CreditScore</th>\n",
       "      <th>Age</th>\n",
       "      <th>Tenure</th>\n",
       "      <th>Balance</th>\n",
       "      <th>NumOfProducts</th>\n",
       "      <th>HasCrCard</th>\n",
       "      <th>IsActiveMember</th>\n",
       "      <th>EstimatedSalary</th>\n",
       "      <th>Exited</th>\n",
       "      <th>Geography_Germany</th>\n",
       "      <th>Geography_Spain</th>\n",
       "      <th>Gender_Male</th>\n",
       "    </tr>\n",
       "  </thead>\n",
       "  <tbody>\n",
       "    <tr>\n",
       "      <td>6413</td>\n",
       "      <td>739</td>\n",
       "      <td>20</td>\n",
       "      <td>4</td>\n",
       "      <td>133800.98</td>\n",
       "      <td>1</td>\n",
       "      <td>0</td>\n",
       "      <td>1</td>\n",
       "      <td>150245.81</td>\n",
       "      <td>0</td>\n",
       "      <td>0</td>\n",
       "      <td>0</td>\n",
       "      <td>0</td>\n",
       "    </tr>\n",
       "    <tr>\n",
       "      <td>8767</td>\n",
       "      <td>552</td>\n",
       "      <td>29</td>\n",
       "      <td>10</td>\n",
       "      <td>0.00</td>\n",
       "      <td>2</td>\n",
       "      <td>1</td>\n",
       "      <td>0</td>\n",
       "      <td>12186.83</td>\n",
       "      <td>0</td>\n",
       "      <td>0</td>\n",
       "      <td>0</td>\n",
       "      <td>1</td>\n",
       "    </tr>\n",
       "    <tr>\n",
       "      <td>2007</td>\n",
       "      <td>705</td>\n",
       "      <td>43</td>\n",
       "      <td>10</td>\n",
       "      <td>146547.78</td>\n",
       "      <td>1</td>\n",
       "      <td>0</td>\n",
       "      <td>1</td>\n",
       "      <td>10072.55</td>\n",
       "      <td>1</td>\n",
       "      <td>1</td>\n",
       "      <td>0</td>\n",
       "      <td>0</td>\n",
       "    </tr>\n",
       "    <tr>\n",
       "      <td>7279</td>\n",
       "      <td>486</td>\n",
       "      <td>37</td>\n",
       "      <td>1</td>\n",
       "      <td>101438.00</td>\n",
       "      <td>1</td>\n",
       "      <td>0</td>\n",
       "      <td>0</td>\n",
       "      <td>51364.56</td>\n",
       "      <td>0</td>\n",
       "      <td>1</td>\n",
       "      <td>0</td>\n",
       "      <td>1</td>\n",
       "    </tr>\n",
       "    <tr>\n",
       "      <td>3004</td>\n",
       "      <td>596</td>\n",
       "      <td>47</td>\n",
       "      <td>5</td>\n",
       "      <td>140187.10</td>\n",
       "      <td>2</td>\n",
       "      <td>1</td>\n",
       "      <td>1</td>\n",
       "      <td>174311.30</td>\n",
       "      <td>0</td>\n",
       "      <td>1</td>\n",
       "      <td>0</td>\n",
       "      <td>1</td>\n",
       "    </tr>\n",
       "    <tr>\n",
       "      <td>7219</td>\n",
       "      <td>581</td>\n",
       "      <td>54</td>\n",
       "      <td>4</td>\n",
       "      <td>89299.81</td>\n",
       "      <td>1</td>\n",
       "      <td>0</td>\n",
       "      <td>0</td>\n",
       "      <td>5558.47</td>\n",
       "      <td>1</td>\n",
       "      <td>0</td>\n",
       "      <td>0</td>\n",
       "      <td>1</td>\n",
       "    </tr>\n",
       "    <tr>\n",
       "      <td>4386</td>\n",
       "      <td>783</td>\n",
       "      <td>42</td>\n",
       "      <td>2</td>\n",
       "      <td>139707.28</td>\n",
       "      <td>1</td>\n",
       "      <td>1</td>\n",
       "      <td>0</td>\n",
       "      <td>2150.22</td>\n",
       "      <td>0</td>\n",
       "      <td>1</td>\n",
       "      <td>0</td>\n",
       "      <td>0</td>\n",
       "    </tr>\n",
       "    <tr>\n",
       "      <td>7560</td>\n",
       "      <td>512</td>\n",
       "      <td>51</td>\n",
       "      <td>6</td>\n",
       "      <td>144953.31</td>\n",
       "      <td>1</td>\n",
       "      <td>1</td>\n",
       "      <td>1</td>\n",
       "      <td>165035.17</td>\n",
       "      <td>0</td>\n",
       "      <td>0</td>\n",
       "      <td>0</td>\n",
       "      <td>1</td>\n",
       "    </tr>\n",
       "    <tr>\n",
       "      <td>9599</td>\n",
       "      <td>749</td>\n",
       "      <td>32</td>\n",
       "      <td>7</td>\n",
       "      <td>79523.13</td>\n",
       "      <td>1</td>\n",
       "      <td>0</td>\n",
       "      <td>1</td>\n",
       "      <td>157648.12</td>\n",
       "      <td>0</td>\n",
       "      <td>1</td>\n",
       "      <td>0</td>\n",
       "      <td>0</td>\n",
       "    </tr>\n",
       "    <tr>\n",
       "      <td>2432</td>\n",
       "      <td>537</td>\n",
       "      <td>39</td>\n",
       "      <td>3</td>\n",
       "      <td>135309.36</td>\n",
       "      <td>1</td>\n",
       "      <td>1</td>\n",
       "      <td>0</td>\n",
       "      <td>31728.86</td>\n",
       "      <td>1</td>\n",
       "      <td>1</td>\n",
       "      <td>0</td>\n",
       "      <td>1</td>\n",
       "    </tr>\n",
       "  </tbody>\n",
       "</table>\n",
       "</div>"
      ],
      "text/plain": [
       "      CreditScore  Age  Tenure    Balance  NumOfProducts  HasCrCard  \\\n",
       "6413          739   20       4  133800.98              1          0   \n",
       "8767          552   29      10       0.00              2          1   \n",
       "2007          705   43      10  146547.78              1          0   \n",
       "7279          486   37       1  101438.00              1          0   \n",
       "3004          596   47       5  140187.10              2          1   \n",
       "7219          581   54       4   89299.81              1          0   \n",
       "4386          783   42       2  139707.28              1          1   \n",
       "7560          512   51       6  144953.31              1          1   \n",
       "9599          749   32       7   79523.13              1          0   \n",
       "2432          537   39       3  135309.36              1          1   \n",
       "\n",
       "      IsActiveMember  EstimatedSalary  Exited  Geography_Germany  \\\n",
       "6413               1        150245.81       0                  0   \n",
       "8767               0         12186.83       0                  0   \n",
       "2007               1         10072.55       1                  1   \n",
       "7279               0         51364.56       0                  1   \n",
       "3004               1        174311.30       0                  1   \n",
       "7219               0          5558.47       1                  0   \n",
       "4386               0          2150.22       0                  1   \n",
       "7560               1        165035.17       0                  0   \n",
       "9599               1        157648.12       0                  1   \n",
       "2432               0         31728.86       1                  1   \n",
       "\n",
       "      Geography_Spain  Gender_Male  \n",
       "6413                0            0  \n",
       "8767                0            1  \n",
       "2007                0            0  \n",
       "7279                0            1  \n",
       "3004                0            1  \n",
       "7219                0            1  \n",
       "4386                0            0  \n",
       "7560                0            1  \n",
       "9599                0            0  \n",
       "2432                0            1  "
      ]
     },
     "metadata": {},
     "output_type": "display_data"
    },
    {
     "name": "stdout",
     "output_type": "stream",
     "text": [
      "<class 'pandas.core.frame.DataFrame'>\n",
      "RangeIndex: 10000 entries, 0 to 9999\n",
      "Data columns (total 12 columns):\n",
      "CreditScore          10000 non-null int64\n",
      "Age                  10000 non-null int64\n",
      "Tenure               10000 non-null int64\n",
      "Balance              10000 non-null float64\n",
      "NumOfProducts        10000 non-null int8\n",
      "HasCrCard            10000 non-null int8\n",
      "IsActiveMember       10000 non-null int8\n",
      "EstimatedSalary      10000 non-null float64\n",
      "Exited               10000 non-null int8\n",
      "Geography_Germany    10000 non-null uint8\n",
      "Geography_Spain      10000 non-null uint8\n",
      "Gender_Male          10000 non-null uint8\n",
      "dtypes: float64(2), int64(3), int8(4), uint8(3)\n",
      "memory usage: 459.1 KB\n"
     ]
    }
   ],
   "source": [
    "display(df.sample(10))\n",
    "df.info()"
   ]
  },
  {
   "cell_type": "markdown",
   "metadata": {},
   "source": [
    "## Исследование задачи"
   ]
  },
  {
   "cell_type": "markdown",
   "metadata": {},
   "source": [
    "Разделим данные на признаки и целевой признак."
   ]
  },
  {
   "cell_type": "code",
   "execution_count": 8,
   "metadata": {},
   "outputs": [],
   "source": [
    "features = df.drop('Exited', axis=1)\n",
    "target = df['Exited']"
   ]
  },
  {
   "cell_type": "markdown",
   "metadata": {},
   "source": [
    "Разделим получившиеся выборки на обучающую, валидационную и тестовую."
   ]
  },
  {
   "cell_type": "code",
   "execution_count": 9,
   "metadata": {},
   "outputs": [
    {
     "name": "stdout",
     "output_type": "stream",
     "text": [
      "Размеры наборов данных:\n",
      "Обучающий:     (6000, 11)\n",
      "Валидационный: (2000, 11)\n",
      "Тестовый:      (2000, 11)\n"
     ]
    }
   ],
   "source": [
    "features_train, features_valid_test, target_train, target_valid_test = train_test_split(\n",
    "    features, target, test_size=0.4, random_state=12345)\n",
    "\n",
    "features_valid, features_test, target_valid, target_test = train_test_split(\n",
    "    features_valid_test, target_valid_test, test_size=0.5, random_state=12345)\n",
    "\n",
    "print('Размеры наборов данных:')\n",
    "print('Обучающий:    ', features_train.shape)\n",
    "print('Валидационный:', features_valid.shape)\n",
    "print('Тестовый:     ', features_test.shape)"
   ]
  },
  {
   "cell_type": "markdown",
   "metadata": {},
   "source": [
    "Масштабируем числовые признаки."
   ]
  },
  {
   "cell_type": "code",
   "execution_count": 10,
   "metadata": {},
   "outputs": [],
   "source": [
    "numeric = ['CreditScore', 'Age', 'Balance', 'EstimatedSalary']\n",
    "\n",
    "scaler = StandardScaler()\n",
    "scaler.fit(features_train[numeric])\n",
    "\n",
    "features_train[numeric] = scaler.transform(features_train[numeric])\n",
    "features_valid[numeric] = scaler.transform(features_valid[numeric])\n",
    "features_test[numeric] = scaler.transform(features_test[numeric])"
   ]
  },
  {
   "cell_type": "markdown",
   "metadata": {},
   "source": [
    "<div style=\" border:solid Blue 1px; padding: 5px; border-radius: 5px;\"> <b>Комментарий студента:</b> <br> \n",
    "    Масштабирование\n",
    "</div>"
   ]
  },
  {
   "cell_type": "markdown",
   "metadata": {},
   "source": [
    "Обучим разные модели."
   ]
  },
  {
   "cell_type": "markdown",
   "metadata": {},
   "source": [
    "### Дерево решений"
   ]
  },
  {
   "cell_type": "code",
   "execution_count": 11,
   "metadata": {
    "scrolled": false
   },
   "outputs": [
    {
     "name": "stdout",
     "output_type": "stream",
     "text": [
      "Глубина дерева: 9\n",
      "f1-мера:        0.5722543352601155\n",
      "roc_auc:        0.7832470859368857\n"
     ]
    }
   ],
   "source": [
    "def decision_tree(features_tr, target_tr, features_val, target_val, cw=None):\n",
    "    best_depth = 0\n",
    "    best_f1 = 0\n",
    "    best_roc_auc = 0\n",
    "\n",
    "    for depth in range(2, 31):\n",
    "    \n",
    "        model = DecisionTreeClassifier(random_state=12345, max_depth=depth, class_weight=cw)\n",
    "        model.fit(features_tr, target_tr)\n",
    "    \n",
    "        predictions_valid = model.predict(features_val)\n",
    "        f1 = f1_score(target_val, predictions_valid)\n",
    "        \n",
    "        predictions =model.predict_proba(features_val)[:,1]\n",
    "        roc_auc = roc_auc_score(target_val, predictions)\n",
    "    \n",
    "        if f1 > best_f1:\n",
    "            best_depth = depth\n",
    "            best_f1 = f1    \n",
    "            best_roc_auc = roc_auc\n",
    "\n",
    "    print(\"Глубина дерева:\", best_depth)\n",
    "    print(\"f1-мера:       \", best_f1)\n",
    "    print(\"roc_auc:       \", best_roc_auc)\n",
    "    \n",
    "decision_tree(features_train, target_train, features_valid, target_valid)"
   ]
  },
  {
   "cell_type": "markdown",
   "metadata": {},
   "source": [
    "**Вывод:**\n",
    "* Наиулучшие значния roc_auc и f1 при глубине дерева 9. \n",
    "* f1 = 0.57, среднее качество модели.\n",
    "* roc_auc > 0.5, модель можно считать адекватной. "
   ]
  },
  {
   "cell_type": "markdown",
   "metadata": {},
   "source": [
    "### Случайный лес"
   ]
  },
  {
   "cell_type": "code",
   "execution_count": 12,
   "metadata": {},
   "outputs": [
    {
     "name": "stdout",
     "output_type": "stream",
     "text": [
      "Кол-во деревьев: 11\n",
      "Глубина дерева:  16\n",
      "f1-мера:         0.6041958041958042\n",
      "roc_auc:         0.8328776486671223\n"
     ]
    }
   ],
   "source": [
    "def random_forest(features_tr, target_tr, features_val, target_val, cw=None):\n",
    "    best_est = 0\n",
    "    best_depth = 0\n",
    "    best_f1 = 0\n",
    "    best_roc_auc = 0\n",
    "\n",
    "    for est in range(2, 21):\n",
    "        for depth in range(2, 21):\n",
    "        \n",
    "            model = RandomForestClassifier(random_state=12345, n_estimators=est, max_depth=depth, class_weight=cw)\n",
    "    \n",
    "            model.fit(features_tr, target_tr)\n",
    "    \n",
    "            predictions_valid = model.predict(features_val)\n",
    "            f1 = f1_score(target_val, predictions_valid)\n",
    "            \n",
    "            predictions =model.predict_proba(features_val)[:,1]\n",
    "            roc_auc = roc_auc_score(target_val, predictions)\n",
    "        \n",
    "            if f1 > best_f1:\n",
    "                best_est = est\n",
    "                best_depth = depth\n",
    "                best_f1 = f1    \n",
    "                best_roc_auc = roc_auc     \n",
    "    \n",
    "    print(\"Кол-во деревьев:\", best_est)\n",
    "    print(\"Глубина дерева: \", best_depth)\n",
    "    print(\"f1-мера:        \", best_f1)\n",
    "    print(\"roc_auc:        \", best_roc_auc)\n",
    "\n",
    "random_forest(features_train, target_train, features_valid, target_valid)"
   ]
  },
  {
   "cell_type": "markdown",
   "metadata": {},
   "source": [
    "**Вывод:**\n",
    "* Наиулучшие значния roc_auc и f1 при кол-ве деревьев 11 и глубине дерева 16. \n",
    "* f1 = 0.6, среднее качество модели.\n",
    "* roc_auc > 0.5, модель можно считать адекватной. "
   ]
  },
  {
   "cell_type": "markdown",
   "metadata": {},
   "source": [
    "### Логистическая регрессия"
   ]
  },
  {
   "cell_type": "code",
   "execution_count": 13,
   "metadata": {},
   "outputs": [
    {
     "name": "stdout",
     "output_type": "stream",
     "text": [
      "f1-мера: 0.3316412859560068\n",
      "roc_auc: 0.7584503293632311\n"
     ]
    }
   ],
   "source": [
    "model = LogisticRegression(random_state=12345, solver='liblinear')\n",
    "model.fit(features_train, target_train)\n",
    "    \n",
    "predictions_valid = model.predict(features_valid)\n",
    "f1 = f1_score(target_valid, predictions_valid)\n",
    "\n",
    "predictions =model.predict_proba(features_valid)[:,1]\n",
    "roc_auc = roc_auc_score(target_valid, predictions)\n",
    "\n",
    "print(\"f1-мера:\", f1)\n",
    "print(\"roc_auc:\", roc_auc)  "
   ]
  },
  {
   "cell_type": "markdown",
   "metadata": {},
   "source": [
    "**Вывод:**\n",
    "* f1 = 0.33, плохое качество модели.\n",
    "* roc_auc = 0.76, модель можно считать адекватной. "
   ]
  },
  {
   "cell_type": "markdown",
   "metadata": {},
   "source": [
    "### Вывод"
   ]
  },
  {
   "cell_type": "markdown",
   "metadata": {},
   "source": [
    "Лучше всего показала себя модель случайного леса, так же неплохой результат показало дерево решений. Логистическая регрессия выдала низкое начение f1-меры. \n",
    "\n",
    "В дальшейших пунктах будем рассматривать только дерево решений и случайный лес."
   ]
  },
  {
   "cell_type": "markdown",
   "metadata": {},
   "source": [
    "## Борьба с дисбалансом"
   ]
  },
  {
   "cell_type": "markdown",
   "metadata": {},
   "source": [
    "Для борьбы с дисбалансом классов будем использовать:\n",
    "* взвешивание классов;\n",
    "* увеличение выборки положительного класса;\n",
    "* уменьшение выборки отрицательного класса;\n",
    "* перемешивание объектов методом shuffle."
   ]
  },
  {
   "cell_type": "markdown",
   "metadata": {},
   "source": [
    "### Взвешивание классов"
   ]
  },
  {
   "cell_type": "markdown",
   "metadata": {},
   "source": [
    "Дерево решений."
   ]
  },
  {
   "cell_type": "code",
   "execution_count": 14,
   "metadata": {},
   "outputs": [
    {
     "name": "stdout",
     "output_type": "stream",
     "text": [
      "Глубина дерева: 5\n",
      "f1-мера:        0.5963791267305644\n",
      "roc_auc:        0.8310244134068074\n"
     ]
    }
   ],
   "source": [
    "decision_tree(features_train, target_train, features_valid, target_valid, cw='balanced')"
   ]
  },
  {
   "cell_type": "markdown",
   "metadata": {},
   "source": [
    "Случайный лес."
   ]
  },
  {
   "cell_type": "code",
   "execution_count": 15,
   "metadata": {},
   "outputs": [
    {
     "name": "stdout",
     "output_type": "stream",
     "text": [
      "Кол-во деревьев: 20\n",
      "Глубина дерева:  7\n",
      "f1-мера:         0.623773173391494\n",
      "roc_auc:         0.8522250920946777\n"
     ]
    }
   ],
   "source": [
    "random_forest(features_train, target_train, features_valid, target_valid, cw='balanced')"
   ]
  },
  {
   "cell_type": "markdown",
   "metadata": {},
   "source": [
    "Положительная тенденция результатов f1 и roc_auc есть, но не значительная. Все критерии увеличились примерно на 0.02"
   ]
  },
  {
   "cell_type": "markdown",
   "metadata": {},
   "source": [
    "### Увеличение и уменьшение выборок"
   ]
  },
  {
   "cell_type": "markdown",
   "metadata": {},
   "source": [
    "Напишем функции увеличения и уменьшения выборок."
   ]
  },
  {
   "cell_type": "code",
   "execution_count": 16,
   "metadata": {},
   "outputs": [],
   "source": [
    "def upsample(features, target, repeat):\n",
    "    features_zeros = features[target == 0]\n",
    "    features_ones = features[target == 1]\n",
    "    target_zeros = target[target == 0]\n",
    "    target_ones = target[target == 1]\n",
    "\n",
    "    features_upsampled = pd.concat([features_zeros] + [features_ones] * repeat)\n",
    "    target_upsampled = pd.concat([target_zeros] + [target_ones] * repeat)\n",
    "    \n",
    "    features_upsampled, target_upsampled = shuffle(\n",
    "        features_upsampled, target_upsampled, random_state=12345)\n",
    "    \n",
    "    return features_upsampled, target_upsampled\n",
    "\n",
    "\n",
    "def downsample(features, target, fraction):\n",
    "    features_zeros = features[target == 0]\n",
    "    features_ones = features[target == 1]\n",
    "    target_zeros = target[target == 0]\n",
    "    target_ones = target[target == 1]\n",
    "\n",
    "    features_downsampled = pd.concat(\n",
    "        [features_zeros.sample(frac=fraction, random_state=12345)] + [features_ones])\n",
    "    target_downsampled = pd.concat(\n",
    "        [target_zeros.sample(frac=fraction, random_state=12345)] + [target_ones])\n",
    "    \n",
    "    features_downsampled, target_downsampled = shuffle(\n",
    "        features_downsampled, target_downsampled, random_state=12345)\n",
    "    \n",
    "    return features_downsampled, target_downsampled"
   ]
  },
  {
   "cell_type": "markdown",
   "metadata": {},
   "source": [
    "Будем рассматривать различные значения увеличения и уменьшения выборок.\n",
    "\n",
    "**Дерево решений**"
   ]
  },
  {
   "cell_type": "code",
   "execution_count": 17,
   "metadata": {},
   "outputs": [
    {
     "name": "stdout",
     "output_type": "stream",
     "text": [
      "=============================================================\n",
      "repeat = 2;   fraction = 0.5\n",
      "Глубина дерева: 6\n",
      "f1-мера:        0.5845864661654135\n",
      "roc_auc:        0.8261089167004398\n",
      "=============================================================\n",
      "repeat = 2;   fraction = 0.55\n",
      "Глубина дерева: 6\n",
      "f1-мера:        0.5919661733615222\n",
      "roc_auc:        0.8118561689823915\n",
      "=============================================================\n",
      "repeat = 2;   fraction = 0.6\n",
      "Глубина дерева: 5\n",
      "f1-мера:        0.5920398009950248\n",
      "roc_auc:        0.820865266545285\n",
      "=============================================================\n",
      "repeat = 2;   fraction = 0.65\n",
      "Глубина дерева: 5\n",
      "f1-мера:        0.589711417816813\n",
      "roc_auc:        0.8287258270374246\n",
      "=============================================================\n",
      "repeat = 2;   fraction = 0.7\n",
      "Глубина дерева: 5\n",
      "f1-мера:        0.589711417816813\n",
      "roc_auc:        0.8306319902733503\n",
      "=============================================================\n",
      "repeat = 2;   fraction = 0.75\n",
      "Глубина дерева: 7\n",
      "f1-мера:        0.5897142857142856\n",
      "roc_auc:        0.8168896194629776\n",
      "=============================================================\n",
      "repeat = 2;   fraction = 0.8\n",
      "Глубина дерева: 5\n",
      "f1-мера:        0.5895806861499364\n",
      "roc_auc:        0.8175360968793663\n",
      "=============================================================\n",
      "repeat = 2;   fraction = 0.85\n",
      "Глубина дерева: 5\n",
      "f1-мера:        0.590738423028786\n",
      "roc_auc:        0.8226307925888736\n",
      "=============================================================\n",
      "repeat = 3;   fraction = 0.5\n",
      "Глубина дерева: 6\n",
      "f1-мера:        0.5311004784688995\n",
      "roc_auc:        0.816559197672379\n",
      "=============================================================\n",
      "repeat = 3;   fraction = 0.55\n",
      "Глубина дерева: 6\n",
      "f1-мера:        0.5440931780366056\n",
      "roc_auc:        0.8121336627973795\n",
      "=============================================================\n",
      "repeat = 3;   fraction = 0.6\n",
      "Глубина дерева: 6\n",
      "f1-мера:        0.5591200733272227\n",
      "roc_auc:        0.8129238018618549\n",
      "=============================================================\n",
      "repeat = 3;   fraction = 0.65\n",
      "Глубина дерева: 8\n",
      "f1-мера:        0.5647058823529412\n",
      "roc_auc:        0.7882238278721744\n",
      "=============================================================\n",
      "repeat = 3;   fraction = 0.7\n",
      "Глубина дерева: 8\n",
      "f1-мера:        0.5635467980295567\n",
      "roc_auc:        0.7875463497843562\n",
      "=============================================================\n",
      "repeat = 3;   fraction = 0.75\n",
      "Глубина дерева: 6\n",
      "f1-мера:        0.5785582255083179\n",
      "roc_auc:        0.8217884816627248\n",
      "=============================================================\n",
      "repeat = 3;   fraction = 0.8\n",
      "Глубина дерева: 6\n",
      "f1-мера:        0.596\n",
      "roc_auc:        0.8189825428414157\n",
      "=============================================================\n",
      "repeat = 3;   fraction = 0.85\n",
      "Глубина дерева: 6\n",
      "f1-мера:        0.588235294117647\n",
      "roc_auc:        0.8065308585220088\n"
     ]
    }
   ],
   "source": [
    "for rep in range(2,4):\n",
    "    for frac in np.arange(0.5, 0.9, 0.05):\n",
    "        print('=============================================================')\n",
    "        print('repeat = {};   fraction = {}'.format(rep, round(frac,2)))\n",
    "        X_train_upsampled, y_train_upsampled = upsample(features_train, target_train, rep)\n",
    "        features_downsampled, target_downsampled = downsample(X_train_upsampled, y_train_upsampled, frac)\n",
    "        \n",
    "        best_depth = 0\n",
    "        best_f1 = 0\n",
    "        best_roc_auc = 0\n",
    "\n",
    "        for depth in range(2, 31):\n",
    "    \n",
    "            model = DecisionTreeClassifier(random_state=12345, max_depth=depth)\n",
    "            model.fit(features_downsampled , target_downsampled)\n",
    "    \n",
    "            predictions_valid = model.predict(features_valid)\n",
    "            f1 = f1_score(target_valid, predictions_valid)\n",
    "            \n",
    "            predictions =model.predict_proba(features_valid)[:,1]\n",
    "            roc_auc = roc_auc_score(target_valid, predictions)\n",
    "    \n",
    "            if f1 > best_f1:\n",
    "                best_depth = depth\n",
    "                best_f1 = f1    \n",
    "                best_roc_auc = roc_auc\n",
    "\n",
    "        print(\"Глубина дерева:\", best_depth)\n",
    "        print(\"f1-мера:       \", best_f1)\n",
    "        print(\"roc_auc:       \", best_roc_auc)"
   ]
  },
  {
   "cell_type": "markdown",
   "metadata": {},
   "source": [
    "Наилучший результат для дерева решений:\n",
    "* увеличение положительного класса в 3 раза \n",
    "* сэмплирование отрицательного класса с коэффициентом 0.8\n",
    "* глубина дерева 5\n",
    "* f1-мера = 0.596\n",
    "* roc_auc = 0.807"
   ]
  },
  {
   "cell_type": "markdown",
   "metadata": {},
   "source": [
    "**Случайный лес**"
   ]
  },
  {
   "cell_type": "code",
   "execution_count": 18,
   "metadata": {
    "scrolled": false
   },
   "outputs": [
    {
     "name": "stdout",
     "output_type": "stream",
     "text": [
      "=============================================================\n",
      "repeat = 2;   fraction = 0.5\n",
      "Кол-во деревьев: 13\n",
      "Глубина дерева:  8\n",
      "f1-мера:         0.6213197969543147\n",
      "roc_auc:         0.8465973360593761\n",
      "=============================================================\n",
      "repeat = 2;   fraction = 0.55\n",
      "Кол-во деревьев: 10\n",
      "Глубина дерева:  6\n",
      "f1-мера:         0.6286307053941909\n",
      "roc_auc:         0.8510561399476164\n",
      "=============================================================\n",
      "repeat = 2;   fraction = 0.6\n",
      "Кол-во деревьев: 18\n",
      "Глубина дерева:  5\n",
      "f1-мера:         0.6302895322939868\n",
      "roc_auc:         0.8461882784192984\n",
      "=============================================================\n",
      "repeat = 2;   fraction = 0.65\n",
      "Кол-во деревьев: 20\n",
      "Глубина дерева:  7\n",
      "f1-мера:         0.6461187214611873\n",
      "roc_auc:         0.8524662924406752\n",
      "=============================================================\n",
      "repeat = 2;   fraction = 0.7\n",
      "Кол-во деревьев: 11\n",
      "Глубина дерева:  10\n",
      "f1-мера:         0.6338672768878718\n",
      "roc_auc:         0.8425906883056393\n",
      "=============================================================\n",
      "repeat = 2;   fraction = 0.75\n",
      "Кол-во деревьев: 15\n",
      "Глубина дерева:  9\n",
      "f1-мера:         0.6356033452807647\n",
      "roc_auc:         0.8456484130680684\n",
      "=============================================================\n",
      "repeat = 2;   fraction = 0.8\n",
      "Кол-во деревьев: 12\n",
      "Глубина дерева:  8\n",
      "f1-мера:         0.6377858002406739\n",
      "roc_auc:         0.8489488504043697\n",
      "=============================================================\n",
      "repeat = 3;   fraction = 0.5\n",
      "Кол-во деревьев: 18\n",
      "Глубина дерева:  18\n",
      "f1-мера:         0.5968586387434555\n",
      "roc_auc:         0.829218057210605\n",
      "=============================================================\n",
      "repeat = 3;   fraction = 0.55\n",
      "Кол-во деревьев: 20\n",
      "Глубина дерева:  14\n",
      "f1-мера:         0.6039296794208893\n",
      "roc_auc:         0.8365395084654517\n",
      "=============================================================\n",
      "repeat = 3;   fraction = 0.6\n",
      "Кол-во деревьев: 20\n",
      "Глубина дерева:  20\n",
      "f1-мера:         0.6100558659217877\n",
      "roc_auc:         0.8354680950163019\n",
      "=============================================================\n",
      "repeat = 3;   fraction = 0.65\n",
      "Кол-во деревьев: 20\n",
      "Глубина дерева:  8\n",
      "f1-мера:         0.6073793755912962\n",
      "roc_auc:         0.8488944102008844\n",
      "=============================================================\n",
      "repeat = 3;   fraction = 0.7\n",
      "Кол-во деревьев: 16\n",
      "Глубина дерева:  7\n",
      "f1-мера:         0.6201550387596899\n",
      "roc_auc:         0.8490267301399114\n",
      "=============================================================\n",
      "repeat = 3;   fraction = 0.75\n",
      "Кол-во деревьев: 18\n",
      "Глубина дерева:  8\n",
      "f1-мера:         0.631687242798354\n",
      "roc_auc:         0.8524746096939857\n",
      "=============================================================\n",
      "repeat = 3;   fraction = 0.8\n",
      "Кол-во деревьев: 15\n",
      "Глубина дерева:  9\n",
      "f1-мера:         0.6241900647948164\n",
      "roc_auc:         0.8459569075544855\n"
     ]
    }
   ],
   "source": [
    "for rep in range(2,4):\n",
    "    for frac in np.arange(0.5, 0.8, 0.05):\n",
    "        print('=============================================================')\n",
    "        print('repeat = {};   fraction = {}'.format(rep, round(frac,2)))\n",
    "        X_train_upsampled, y_train_upsampled = upsample(features_train, target_train, rep)\n",
    "        features_downsampled, target_downsampled = downsample(X_train_upsampled, y_train_upsampled, frac)\n",
    "        \n",
    "        best_est = 0\n",
    "        best_depth = 0\n",
    "        best_f1 = 0\n",
    "        best_roc_auc = 0\n",
    "\n",
    "        for est in range(2, 21):\n",
    "            for depth in range(2, 21):\n",
    "        \n",
    "                model = RandomForestClassifier(random_state=12345, n_estimators=est, max_depth=depth)\n",
    "    \n",
    "                model.fit(features_downsampled , target_downsampled)\n",
    "    \n",
    "                predictions_valid = model.predict(features_valid)\n",
    "                f1 = f1_score(target_valid, predictions_valid)\n",
    "                \n",
    "                predictions =model.predict_proba(features_valid)[:,1]\n",
    "                roc_auc = roc_auc_score(target_valid, predictions)\n",
    "        \n",
    "                if f1 > best_f1:\n",
    "                    best_est = est\n",
    "                    best_depth = depth\n",
    "                    best_f1 = f1    \n",
    "                    best_roc_auc = roc_auc     \n",
    "    \n",
    "        print(\"Кол-во деревьев:\", best_est)\n",
    "        print(\"Глубина дерева: \", best_depth)\n",
    "        print(\"f1-мера:        \", best_f1)\n",
    "        print(\"roc_auc:        \", best_roc_auc)"
   ]
  },
  {
   "cell_type": "markdown",
   "metadata": {},
   "source": [
    "Наилучший результат для случайного леса:\n",
    "* увеличение положительного класса в 2 раза \n",
    "* сэмплирование отрицательного класса с коэффициентом 0.65\n",
    "* количество деревьев 20\n",
    "* глубина дерева 7\n",
    "* f1-мера = 0.646 \n",
    "* roc_auc = 0.852."
   ]
  },
  {
   "cell_type": "markdown",
   "metadata": {},
   "source": [
    "## Тестирование модели"
   ]
  },
  {
   "cell_type": "markdown",
   "metadata": {},
   "source": [
    "Протестируем модели дерева решений и случайного леса.\n",
    "\n",
    "Для начала объединим тренировочную и валидационную выборки для повторного обучения модели."
   ]
  },
  {
   "cell_type": "code",
   "execution_count": 19,
   "metadata": {},
   "outputs": [],
   "source": [
    "features = pd.concat([features_train, features_valid], ignore_index=True)\n",
    "target = pd.concat([target_train, target_valid], ignore_index=True)"
   ]
  },
  {
   "cell_type": "markdown",
   "metadata": {},
   "source": [
    "**Тест дерева решений**"
   ]
  },
  {
   "cell_type": "code",
   "execution_count": 20,
   "metadata": {},
   "outputs": [
    {
     "name": "stdout",
     "output_type": "stream",
     "text": [
      "CPU times: user 4 µs, sys: 1 µs, total: 5 µs\n",
      "Wall time: 8.58 µs\n",
      " f1 = 0.5953, \n",
      " roc_auc = 0.8444\n",
      "\n",
      "Feature: 0, Score: 0.01228\n",
      "Feature: 1, Score: 0.44632\n",
      "Feature: 2, Score: 0.00083\n",
      "Feature: 3, Score: 0.11079\n",
      "Feature: 4, Score: 0.30075\n",
      "Feature: 5, Score: 0.00000\n",
      "Feature: 6, Score: 0.08137\n",
      "Feature: 7, Score: 0.00526\n",
      "Feature: 8, Score: 0.03806\n",
      "Feature: 9, Score: 0.00000\n",
      "Feature: 10, Score: 0.00435\n"
     ]
    },
    {
     "data": {
      "image/png": "[encoded data removed]",
      "text/plain": [
       "<Figure size 432x288 with 1 Axes>"
      ]
     },
     "metadata": {
      "needs_background": "light"
     },
     "output_type": "display_data"
    },
    {
     "name": "stdout",
     "output_type": "stream",
     "text": [
      "1 CreditScore\n",
      "2 Age\n",
      "3 Tenure\n",
      "4 Balance\n",
      "5 NumOfProducts\n",
      "6 HasCrCard\n",
      "7 IsActiveMember\n",
      "8 EstimatedSalary\n",
      "9 Geography_Germany\n",
      "10 Geography_Spain\n",
      "11 Gender_Male\n"
     ]
    }
   ],
   "source": [
    "%time\n",
    "\n",
    "features_upsampled, target_upsampled = upsample(features, target, 3)\n",
    "features_balanced, target_balanced = downsample(features_upsampled, target_upsampled, 0.8)\n",
    "model = DecisionTreeClassifier(random_state=123, max_depth=6)\n",
    "\n",
    "model.fit(features_balanced, target_balanced)\n",
    "predictions = model.predict(features_test)\n",
    "\n",
    "f1 = f1_score(target_test, predictions)\n",
    "\n",
    "predictions =model.predict_proba(features_test)[:,1]\n",
    "roc_auc = roc_auc_score(target_test, predictions)\n",
    "\n",
    "print(' f1 = {}, \\n roc_auc = {}'.format(round(f1,4), round(roc_auc,4)))\n",
    "print('')\n",
    "\n",
    "importance = model.feature_importances_\n",
    "\n",
    "for i,v in enumerate(importance):\n",
    "    print('Feature: %0d, Score: %.5f' % (i,v))\n",
    "\n",
    "pyplot.bar([x for x in range(len(importance))], importance)\n",
    "plt.title('Важность факторов')\n",
    "pyplot.show()\n",
    "\n",
    "n=1\n",
    "for i in features_balanced.columns:\n",
    "    print(n, i)\n",
    "    n+= 1"
   ]
  },
  {
   "cell_type": "markdown",
   "metadata": {},
   "source": [
    "**Тест случайного леса**"
   ]
  },
  {
   "cell_type": "code",
   "execution_count": 22,
   "metadata": {},
   "outputs": [
    {
     "name": "stdout",
     "output_type": "stream",
     "text": [
      "CPU times: user 4 µs, sys: 0 ns, total: 4 µs\n",
      "Wall time: 8.34 µs\n",
      " f1 = 0.6128, \n",
      " roc_auc = 0.8543\n",
      "\n",
      "Feature: 0, Score: 0.03132\n",
      "Feature: 1, Score: 0.39061\n",
      "Feature: 2, Score: 0.01865\n",
      "Feature: 3, Score: 0.07367\n",
      "Feature: 4, Score: 0.26885\n",
      "Feature: 5, Score: 0.00284\n",
      "Feature: 6, Score: 0.08586\n",
      "Feature: 7, Score: 0.03462\n",
      "Feature: 8, Score: 0.06029\n",
      "Feature: 9, Score: 0.00471\n",
      "Feature: 10, Score: 0.02858\n"
     ]
    },
    {
     "data": {
      "image/png": "[encoded data removed]",
      "text/plain": [
       "<Figure size 432x288 with 1 Axes>"
      ]
     },
     "metadata": {
      "needs_background": "light"
     },
     "output_type": "display_data"
    },
    {
     "name": "stdout",
     "output_type": "stream",
     "text": [
      "1 CreditScore\n",
      "2 Age\n",
      "3 Tenure\n",
      "4 Balance\n",
      "5 NumOfProducts\n",
      "6 HasCrCard\n",
      "7 IsActiveMember\n",
      "8 EstimatedSalary\n",
      "9 Geography_Germany\n",
      "10 Geography_Spain\n",
      "11 Gender_Male\n"
     ]
    }
   ],
   "source": [
    "%time\n",
    "\n",
    "features_upsampled, target_upsampled = upsample(features, target, 2)\n",
    "features_balanced, target_balanced = downsample(features_upsampled, target_upsampled, 0.65)\n",
    "\n",
    "model = RandomForestClassifier(random_state=123, n_estimators=20,max_depth=7)\n",
    "\n",
    "model.fit(features_balanced, target_balanced)\n",
    "predictions = model.predict(features_test)\n",
    "\n",
    "f1 = f1_score(target_test, predictions)\n",
    "\n",
    "predictions = model.predict_proba(features_test)[:,1]\n",
    "roc_auc = roc_auc_score(target_test, predictions)\n",
    "\n",
    "print(' f1 = {}, \\n roc_auc = {}'.format(round(f1,4), round(roc_auc,4)))\n",
    "print('')\n",
    "\n",
    "importance = model.feature_importances_\n",
    "\n",
    "for i,v in enumerate(importance):\n",
    "    print('Feature: %0d, Score: %.5f' % (i,v))\n",
    "\n",
    "pyplot.bar([x for x in range(len(importance))], importance)\n",
    "plt.title('Важность факторов')\n",
    "pyplot.show()\n",
    "\n",
    "n=1\n",
    "for i in features_balanced.columns:\n",
    "    print(n, i)\n",
    "    n+= 1"
   ]
  },
  {
   "cell_type": "markdown",
   "metadata": {},
   "source": [
    "### Вывод"
   ]
  },
  {
   "cell_type": "markdown",
   "metadata": {},
   "source": [
    "Обе модели показали хороший результат на тестовой выборке, f1-мера больше 0.59 у двух моделей, что соответствует тз. auc_roc > 0.5, модели адекватны."
   ]
  }
 ],
 "metadata": {
  "ExecuteTimeLog": [
   {
    "duration": 1110,
    "start_time": "2022-02-12T14:15:06.855Z"
   },
   {
    "duration": 1813,
    "start_time": "2022-02-12T14:15:09.110Z"
   },
   {
    "duration": 335,
    "start_time": "2022-02-12T14:15:25.441Z"
   },
   {
    "duration": 349,
    "start_time": "2022-02-12T14:15:31.978Z"
   },
   {
    "duration": 142,
    "start_time": "2022-02-12T14:15:38.225Z"
   },
   {
    "duration": 115,
    "start_time": "2022-02-12T14:16:17.586Z"
   },
   {
    "duration": 381,
    "start_time": "2022-02-12T14:16:25.022Z"
   },
   {
    "duration": 144,
    "start_time": "2022-02-12T14:16:36.061Z"
   },
   {
    "duration": 96,
    "start_time": "2022-02-12T14:16:42.915Z"
   },
   {
    "duration": 11,
    "start_time": "2022-02-12T14:20:35.322Z"
   },
   {
    "duration": 19,
    "start_time": "2022-02-12T14:24:21.629Z"
   },
   {
    "duration": 18,
    "start_time": "2022-02-12T14:24:32.752Z"
   },
   {
    "duration": 19,
    "start_time": "2022-02-12T14:24:49.264Z"
   },
   {
    "duration": 4,
    "start_time": "2022-02-12T14:24:54.912Z"
   },
   {
    "duration": 15,
    "start_time": "2022-02-12T14:51:27.673Z"
   },
   {
    "duration": 20,
    "start_time": "2022-02-12T14:51:40.141Z"
   },
   {
    "duration": 18,
    "start_time": "2022-02-12T14:52:26.923Z"
   },
   {
    "duration": 19,
    "start_time": "2022-02-12T14:52:30.148Z"
   },
   {
    "duration": 5561,
    "start_time": "2022-02-12T14:54:50.167Z"
   },
   {
    "duration": 5,
    "start_time": "2022-02-12T14:55:15.594Z"
   },
   {
    "duration": 21,
    "start_time": "2022-02-12T14:55:49.242Z"
   },
   {
    "duration": 3,
    "start_time": "2022-02-12T14:56:51.050Z"
   },
   {
    "duration": 225,
    "start_time": "2022-02-12T14:59:18.624Z"
   },
   {
    "duration": 222,
    "start_time": "2022-02-12T15:01:07.535Z"
   },
   {
    "duration": 240,
    "start_time": "2022-02-12T15:01:50.311Z"
   },
   {
    "duration": 1098,
    "start_time": "2022-02-12T15:04:20.972Z"
   },
   {
    "duration": 153,
    "start_time": "2022-02-12T15:04:22.072Z"
   },
   {
    "duration": 4,
    "start_time": "2022-02-12T15:04:22.227Z"
   },
   {
    "duration": 23,
    "start_time": "2022-02-12T15:04:22.233Z"
   },
   {
    "duration": 322,
    "start_time": "2022-02-12T15:04:22.257Z"
   },
   {
    "duration": -533,
    "start_time": "2022-02-12T15:04:23.114Z"
   },
   {
    "duration": 274,
    "start_time": "2022-02-12T15:06:06.311Z"
   },
   {
    "duration": 244,
    "start_time": "2022-02-12T15:06:56.663Z"
   },
   {
    "duration": 13,
    "start_time": "2022-02-12T15:08:56.262Z"
   },
   {
    "duration": 6,
    "start_time": "2022-02-12T15:10:05.117Z"
   },
   {
    "duration": 164,
    "start_time": "2022-02-12T15:12:08.268Z"
   },
   {
    "duration": 1160,
    "start_time": "2022-02-12T15:13:50.531Z"
   },
   {
    "duration": 157,
    "start_time": "2022-02-12T15:13:51.693Z"
   },
   {
    "duration": 5,
    "start_time": "2022-02-12T15:13:51.852Z"
   },
   {
    "duration": 22,
    "start_time": "2022-02-12T15:13:51.860Z"
   },
   {
    "duration": 36,
    "start_time": "2022-02-12T15:13:51.884Z"
   },
   {
    "duration": 7,
    "start_time": "2022-02-12T15:13:51.921Z"
   },
   {
    "duration": 91,
    "start_time": "2022-02-12T15:13:51.929Z"
   },
   {
    "duration": 1670,
    "start_time": "2022-02-12T15:14:21.324Z"
   },
   {
    "duration": 369,
    "start_time": "2022-02-12T15:14:22.996Z"
   },
   {
    "duration": 4,
    "start_time": "2022-02-12T15:14:23.367Z"
   },
   {
    "duration": 33,
    "start_time": "2022-02-12T15:14:23.373Z"
   },
   {
    "duration": 14,
    "start_time": "2022-02-12T15:14:23.408Z"
   },
   {
    "duration": 8,
    "start_time": "2022-02-12T15:14:23.423Z"
   },
   {
    "duration": 23,
    "start_time": "2022-02-12T15:14:23.433Z"
   },
   {
    "duration": 5,
    "start_time": "2022-02-12T15:18:05.571Z"
   },
   {
    "duration": 308,
    "start_time": "2022-02-12T15:21:52.226Z"
   },
   {
    "duration": 13,
    "start_time": "2022-02-12T15:22:06.266Z"
   },
   {
    "duration": 9,
    "start_time": "2022-02-12T15:22:13.289Z"
   },
   {
    "duration": 11,
    "start_time": "2022-02-12T15:23:49.025Z"
   },
   {
    "duration": 10,
    "start_time": "2022-02-12T15:24:23.992Z"
   },
   {
    "duration": 10,
    "start_time": "2022-02-12T15:24:28.489Z"
   },
   {
    "duration": 10,
    "start_time": "2022-02-12T15:24:32.864Z"
   },
   {
    "duration": 11,
    "start_time": "2022-02-12T15:30:07.866Z"
   },
   {
    "duration": 241,
    "start_time": "2022-02-12T15:38:11.474Z"
   },
   {
    "duration": 39,
    "start_time": "2022-02-12T15:39:29.786Z"
   },
   {
    "duration": 1353,
    "start_time": "2022-02-12T15:39:33.561Z"
   },
   {
    "duration": 1519,
    "start_time": "2022-02-12T15:41:21.930Z"
   },
   {
    "duration": 251,
    "start_time": "2022-02-12T16:25:55.645Z"
   },
   {
    "duration": 777,
    "start_time": "2022-02-12T16:28:57.567Z"
   },
   {
    "duration": 6,
    "start_time": "2022-02-12T16:29:01.453Z"
   },
   {
    "duration": 4,
    "start_time": "2022-02-12T16:31:39.586Z"
   },
   {
    "duration": 5,
    "start_time": "2022-02-12T16:37:56.791Z"
   },
   {
    "duration": 740,
    "start_time": "2022-02-12T16:39:09.059Z"
   },
   {
    "duration": 4,
    "start_time": "2022-02-12T16:39:10.630Z"
   },
   {
    "duration": 4,
    "start_time": "2022-02-12T16:39:15.582Z"
   },
   {
    "duration": 4,
    "start_time": "2022-02-12T16:40:09.798Z"
   },
   {
    "duration": 5,
    "start_time": "2022-02-12T16:40:11.629Z"
   },
   {
    "duration": 725,
    "start_time": "2022-02-12T16:57:45.793Z"
   },
   {
    "duration": 4258,
    "start_time": "2022-02-12T17:02:45.307Z"
   },
   {
    "duration": 8131,
    "start_time": "2022-02-12T17:03:47.702Z"
   },
   {
    "duration": 8487,
    "start_time": "2022-02-12T17:04:12.100Z"
   },
   {
    "duration": 1549,
    "start_time": "2022-02-16T12:24:39.868Z"
   },
   {
    "duration": 208,
    "start_time": "2022-02-16T12:24:41.420Z"
   },
   {
    "duration": 6,
    "start_time": "2022-02-16T12:24:41.631Z"
   },
   {
    "duration": 35,
    "start_time": "2022-02-16T12:24:41.640Z"
   },
   {
    "duration": 20,
    "start_time": "2022-02-16T12:24:41.677Z"
   },
   {
    "duration": 7,
    "start_time": "2022-02-16T12:24:41.699Z"
   },
   {
    "duration": 45,
    "start_time": "2022-02-16T12:24:41.708Z"
   },
   {
    "duration": 5,
    "start_time": "2022-02-16T12:24:41.755Z"
   },
   {
    "duration": 15,
    "start_time": "2022-02-16T12:24:41.763Z"
   },
   {
    "duration": 1104,
    "start_time": "2022-02-16T12:24:41.780Z"
   },
   {
    "duration": 34497,
    "start_time": "2022-02-16T12:24:42.886Z"
   },
   {
    "duration": 56,
    "start_time": "2022-02-16T12:25:17.385Z"
   },
   {
    "duration": 60,
    "start_time": "2022-02-16T12:27:19.076Z"
   },
   {
    "duration": 120,
    "start_time": "2022-02-16T12:27:41.811Z"
   },
   {
    "duration": 438,
    "start_time": "2022-02-16T12:36:12.726Z"
   },
   {
    "duration": 119,
    "start_time": "2022-02-16T12:36:22.668Z"
   },
   {
    "duration": 121,
    "start_time": "2022-02-16T12:37:10.784Z"
   },
   {
    "duration": 110,
    "start_time": "2022-02-16T12:43:16.025Z"
   },
   {
    "duration": 93,
    "start_time": "2022-02-16T12:43:58.995Z"
   },
   {
    "duration": 497,
    "start_time": "2022-02-16T12:44:03.348Z"
   },
   {
    "duration": 34531,
    "start_time": "2022-02-16T12:44:46.122Z"
   },
   {
    "duration": 35244,
    "start_time": "2022-02-16T12:45:42.891Z"
   },
   {
    "duration": 7,
    "start_time": "2022-02-16T12:49:24.335Z"
   },
   {
    "duration": 494,
    "start_time": "2022-02-16T12:49:52.577Z"
   },
   {
    "duration": 34808,
    "start_time": "2022-02-16T12:50:22.409Z"
   },
   {
    "duration": 34527,
    "start_time": "2022-02-16T12:52:21.888Z"
   },
   {
    "duration": 34628,
    "start_time": "2022-02-16T12:53:11.769Z"
   },
   {
    "duration": 1048,
    "start_time": "2022-02-16T12:58:00.850Z"
   },
   {
    "duration": 5761,
    "start_time": "2022-02-16T12:58:28.598Z"
   },
   {
    "duration": 1091,
    "start_time": "2022-02-16T12:58:42.982Z"
   },
   {
    "duration": 9,
    "start_time": "2022-02-16T13:03:33.842Z"
   },
   {
    "duration": 618,
    "start_time": "2022-02-16T13:12:07.594Z"
   },
   {
    "duration": 6,
    "start_time": "2022-02-16T13:12:38.602Z"
   },
   {
    "duration": 587,
    "start_time": "2022-02-16T13:12:45.239Z"
   },
   {
    "duration": 657,
    "start_time": "2022-02-16T13:14:50.812Z"
   },
   {
    "duration": 27,
    "start_time": "2022-02-16T13:17:50.829Z"
   },
   {
    "duration": 3,
    "start_time": "2022-02-16T13:18:17.244Z"
   },
   {
    "duration": 650,
    "start_time": "2022-02-16T13:18:18.995Z"
   },
   {
    "duration": 608,
    "start_time": "2022-02-16T13:20:10.487Z"
   },
   {
    "duration": 103,
    "start_time": "2022-02-16T14:06:57.842Z"
   },
   {
    "duration": 76,
    "start_time": "2022-02-16T14:08:03.258Z"
   },
   {
    "duration": 8,
    "start_time": "2022-02-16T14:08:16.324Z"
   },
   {
    "duration": 631,
    "start_time": "2022-02-16T14:08:28.974Z"
   },
   {
    "duration": 1064,
    "start_time": "2022-02-16T14:10:44.451Z"
   },
   {
    "duration": 682,
    "start_time": "2022-02-16T14:10:53.700Z"
   },
   {
    "duration": 16,
    "start_time": "2022-02-16T14:11:29.155Z"
   },
   {
    "duration": 32,
    "start_time": "2022-02-16T14:11:51.723Z"
   },
   {
    "duration": 642,
    "start_time": "2022-02-16T14:13:45.726Z"
   },
   {
    "duration": 7,
    "start_time": "2022-02-16T14:15:39.549Z"
   },
   {
    "duration": 488,
    "start_time": "2022-02-16T14:15:52.680Z"
   },
   {
    "duration": 506,
    "start_time": "2022-02-16T14:16:06.320Z"
   },
   {
    "duration": 534,
    "start_time": "2022-02-16T14:17:25.276Z"
   },
   {
    "duration": 787,
    "start_time": "2022-02-16T14:17:41.679Z"
   },
   {
    "duration": 494,
    "start_time": "2022-02-16T14:17:50.768Z"
   },
   {
    "duration": 290,
    "start_time": "2022-02-16T14:18:25.016Z"
   },
   {
    "duration": 1132,
    "start_time": "2022-02-16T14:18:40.057Z"
   },
   {
    "duration": 1434,
    "start_time": "2022-02-16T14:24:26.893Z"
   },
   {
    "duration": 287,
    "start_time": "2022-02-16T14:35:52.191Z"
   },
   {
    "duration": 330,
    "start_time": "2022-02-16T14:36:23.749Z"
   },
   {
    "duration": 640,
    "start_time": "2022-02-16T14:36:39.671Z"
   },
   {
    "duration": 442,
    "start_time": "2022-02-16T14:38:47.982Z"
   },
   {
    "duration": 31,
    "start_time": "2022-02-16T14:38:58.714Z"
   },
   {
    "duration": 30,
    "start_time": "2022-02-16T14:39:12.293Z"
   },
   {
    "duration": 6,
    "start_time": "2022-02-16T14:41:38.324Z"
   },
   {
    "duration": 592,
    "start_time": "2022-02-16T14:41:45.588Z"
   },
   {
    "duration": 642,
    "start_time": "2022-02-16T14:45:24.258Z"
   },
   {
    "duration": 475,
    "start_time": "2022-02-16T14:46:44.345Z"
   },
   {
    "duration": 7,
    "start_time": "2022-02-16T14:47:16.353Z"
   },
   {
    "duration": 573,
    "start_time": "2022-02-16T14:47:19.954Z"
   },
   {
    "duration": 97,
    "start_time": "2022-02-16T14:52:13.305Z"
   },
   {
    "duration": 5,
    "start_time": "2022-02-16T14:52:18.750Z"
   },
   {
    "duration": 125,
    "start_time": "2022-02-16T14:52:48.111Z"
   },
   {
    "duration": 583,
    "start_time": "2022-02-16T14:52:58.928Z"
   },
   {
    "duration": 583,
    "start_time": "2022-02-16T14:53:56.454Z"
   },
   {
    "duration": 633,
    "start_time": "2022-02-16T14:54:16.742Z"
   },
   {
    "duration": 111,
    "start_time": "2022-02-16T14:54:24.422Z"
   },
   {
    "duration": 450,
    "start_time": "2022-02-16T14:55:52.966Z"
   },
   {
    "duration": 687,
    "start_time": "2022-02-16T14:56:07.693Z"
   },
   {
    "duration": 3349,
    "start_time": "2022-02-16T14:58:35.585Z"
   },
   {
    "duration": 1041,
    "start_time": "2022-02-16T14:59:01.677Z"
   },
   {
    "duration": 20022,
    "start_time": "2022-02-16T15:01:05.696Z"
   },
   {
    "duration": 13744,
    "start_time": "2022-02-16T15:03:28.560Z"
   },
   {
    "duration": 16711,
    "start_time": "2022-02-16T15:34:56.944Z"
   },
   {
    "duration": 345,
    "start_time": "2022-02-16T15:46:19.698Z"
   },
   {
    "duration": 71,
    "start_time": "2022-02-16T15:46:32.077Z"
   },
   {
    "duration": 72,
    "start_time": "2022-02-16T15:46:53.877Z"
   },
   {
    "duration": 312,
    "start_time": "2022-02-16T15:50:03.496Z"
   },
   {
    "duration": 355,
    "start_time": "2022-02-16T15:50:12.996Z"
   },
   {
    "duration": 561832,
    "start_time": "2022-02-16T15:50:37.900Z"
   },
   {
    "duration": 7,
    "start_time": "2022-02-16T16:07:29.445Z"
   },
   {
    "duration": 75,
    "start_time": "2022-02-16T16:07:36.500Z"
   },
   {
    "duration": 197,
    "start_time": "2022-02-16T16:08:44.760Z"
   },
   {
    "duration": 41,
    "start_time": "2022-02-16T16:20:53.518Z"
   },
   {
    "duration": 1541,
    "start_time": "2022-02-16T16:22:25.433Z"
   },
   {
    "duration": 229,
    "start_time": "2022-02-16T16:22:26.976Z"
   },
   {
    "duration": 6,
    "start_time": "2022-02-16T16:22:27.212Z"
   },
   {
    "duration": 56,
    "start_time": "2022-02-16T16:22:27.221Z"
   },
   {
    "duration": 19,
    "start_time": "2022-02-16T16:22:27.280Z"
   },
   {
    "duration": 8,
    "start_time": "2022-02-16T16:22:27.301Z"
   },
   {
    "duration": 41,
    "start_time": "2022-02-16T16:22:27.311Z"
   },
   {
    "duration": 5,
    "start_time": "2022-02-16T16:22:27.356Z"
   },
   {
    "duration": 32,
    "start_time": "2022-02-16T16:22:27.364Z"
   },
   {
    "duration": 1084,
    "start_time": "2022-02-16T16:22:27.398Z"
   },
   {
    "duration": 35998,
    "start_time": "2022-02-16T16:22:28.484Z"
   },
   {
    "duration": 149,
    "start_time": "2022-02-16T16:23:04.485Z"
   },
   {
    "duration": 1174,
    "start_time": "2022-02-16T16:23:04.638Z"
   },
   {
    "duration": 37192,
    "start_time": "2022-02-16T16:23:05.815Z"
   },
   {
    "duration": 9,
    "start_time": "2022-02-16T16:23:43.010Z"
   },
   {
    "duration": 16967,
    "start_time": "2022-02-16T16:23:43.034Z"
   },
   {
    "duration": 507798,
    "start_time": "2022-02-16T16:24:00.004Z"
   },
   {
    "duration": 8,
    "start_time": "2022-02-16T16:32:27.804Z"
   },
   {
    "duration": 94,
    "start_time": "2022-02-16T16:32:27.814Z"
   },
   {
    "duration": 226,
    "start_time": "2022-02-16T16:32:27.911Z"
   },
   {
    "duration": 1890,
    "start_time": "2022-02-17T19:17:19.186Z"
   },
   {
    "duration": 194,
    "start_time": "2022-02-17T19:17:21.079Z"
   },
   {
    "duration": 7,
    "start_time": "2022-02-17T19:17:21.848Z"
   },
   {
    "duration": 34,
    "start_time": "2022-02-17T19:17:23.385Z"
   },
   {
    "duration": 25,
    "start_time": "2022-02-17T19:17:24.640Z"
   },
   {
    "duration": 7,
    "start_time": "2022-02-17T19:17:25.873Z"
   },
   {
    "duration": 28,
    "start_time": "2022-02-17T19:17:26.874Z"
   },
   {
    "duration": 6,
    "start_time": "2022-02-17T19:17:28.541Z"
   },
   {
    "duration": 15,
    "start_time": "2022-02-17T19:17:32.092Z"
   },
   {
    "duration": 714,
    "start_time": "2022-02-17T19:18:24.824Z"
   },
   {
    "duration": 37604,
    "start_time": "2022-02-17T19:18:43.476Z"
   },
   {
    "duration": 1082,
    "start_time": "2022-02-17T19:19:31.648Z"
   },
   {
    "duration": 37664,
    "start_time": "2022-02-17T19:19:39.664Z"
   },
   {
    "duration": 451,
    "start_time": "2022-02-17T19:20:44.295Z"
   },
   {
    "duration": 434,
    "start_time": "2022-02-17T19:20:55.303Z"
   },
   {
    "duration": 131,
    "start_time": "2022-02-17T19:20:59.583Z"
   },
   {
    "duration": 350,
    "start_time": "2022-02-17T19:22:00.558Z"
   },
   {
    "duration": 8,
    "start_time": "2022-02-17T19:22:11.599Z"
   },
   {
    "duration": 17313,
    "start_time": "2022-02-17T19:22:13.086Z"
   },
   {
    "duration": 83,
    "start_time": "2022-02-17T19:23:52.746Z"
   },
   {
    "duration": 243,
    "start_time": "2022-02-17T19:24:04.321Z"
   },
   {
    "duration": 419,
    "start_time": "2022-02-17T19:26:39.840Z"
   },
   {
    "duration": 561,
    "start_time": "2022-02-17T19:27:18.703Z"
   },
   {
    "duration": 12,
    "start_time": "2022-02-17T19:27:48.187Z"
   },
   {
    "duration": 387,
    "start_time": "2022-02-17T19:27:57.011Z"
   },
   {
    "duration": 829,
    "start_time": "2022-02-17T19:29:44.739Z"
   },
   {
    "duration": 359,
    "start_time": "2022-02-17T19:31:04.754Z"
   },
   {
    "duration": 25,
    "start_time": "2022-02-17T19:31:44.074Z"
   },
   {
    "duration": 7,
    "start_time": "2022-02-17T19:35:13.440Z"
   },
   {
    "duration": 5,
    "start_time": "2022-02-17T19:35:21.696Z"
   },
   {
    "duration": 669,
    "start_time": "2022-02-17T19:38:23.335Z"
   },
   {
    "duration": 728,
    "start_time": "2022-02-17T19:38:33.918Z"
   },
   {
    "duration": 740,
    "start_time": "2022-02-17T19:38:38.726Z"
   },
   {
    "duration": 421,
    "start_time": "2022-02-17T19:38:43.479Z"
   },
   {
    "duration": 346,
    "start_time": "2022-02-17T19:38:54.655Z"
   },
   {
    "duration": 530,
    "start_time": "2022-02-17T19:39:13.070Z"
   },
   {
    "duration": 913,
    "start_time": "2022-02-17T19:40:25.901Z"
   },
   {
    "duration": 361,
    "start_time": "2022-02-17T19:40:30.422Z"
   },
   {
    "duration": 108,
    "start_time": "2022-02-17T19:41:28.054Z"
   },
   {
    "duration": 368,
    "start_time": "2022-02-17T19:41:31.829Z"
   },
   {
    "duration": 380,
    "start_time": "2022-02-17T19:41:40.805Z"
   },
   {
    "duration": 606,
    "start_time": "2022-02-17T19:42:03.014Z"
   },
   {
    "duration": 735,
    "start_time": "2022-02-17T19:42:08.510Z"
   },
   {
    "duration": 555,
    "start_time": "2022-02-17T19:42:47.005Z"
   },
   {
    "duration": 536,
    "start_time": "2022-02-17T19:43:04.438Z"
   },
   {
    "duration": 704,
    "start_time": "2022-02-17T19:43:18.606Z"
   },
   {
    "duration": 561,
    "start_time": "2022-02-17T20:00:13.927Z"
   },
   {
    "duration": 3,
    "start_time": "2022-02-17T20:04:42.675Z"
   },
   {
    "duration": 24,
    "start_time": "2022-02-17T20:06:59.139Z"
   },
   {
    "duration": 1685,
    "start_time": "2022-02-17T20:09:09.633Z"
   },
   {
    "duration": 190,
    "start_time": "2022-02-17T20:09:11.320Z"
   },
   {
    "duration": 6,
    "start_time": "2022-02-17T20:09:11.514Z"
   },
   {
    "duration": 40,
    "start_time": "2022-02-17T20:09:11.524Z"
   },
   {
    "duration": 4,
    "start_time": "2022-02-17T20:09:11.567Z"
   },
   {
    "duration": 40,
    "start_time": "2022-02-17T20:09:11.574Z"
   },
   {
    "duration": 28,
    "start_time": "2022-02-17T20:09:11.617Z"
   },
   {
    "duration": 6,
    "start_time": "2022-02-17T20:09:11.650Z"
   },
   {
    "duration": 54,
    "start_time": "2022-02-17T20:09:11.660Z"
   },
   {
    "duration": 32,
    "start_time": "2022-02-17T20:09:11.716Z"
   },
   {
    "duration": 1112,
    "start_time": "2022-02-17T20:09:11.751Z"
   },
   {
    "duration": 37904,
    "start_time": "2022-02-17T20:09:12.866Z"
   },
   {
    "duration": 141,
    "start_time": "2022-02-17T20:09:50.772Z"
   },
   {
    "duration": 1183,
    "start_time": "2022-02-17T20:09:50.917Z"
   },
   {
    "duration": 38282,
    "start_time": "2022-02-17T20:09:52.103Z"
   },
   {
    "duration": 8,
    "start_time": "2022-02-17T20:10:30.388Z"
   },
   {
    "duration": 17983,
    "start_time": "2022-02-17T20:10:30.398Z"
   },
   {
    "duration": 528033,
    "start_time": "2022-02-17T20:10:48.384Z"
   },
   {
    "duration": 7,
    "start_time": "2022-02-17T20:19:36.420Z"
   },
   {
    "duration": 428,
    "start_time": "2022-02-17T20:19:36.430Z"
   },
   {
    "duration": 6,
    "start_time": "2022-02-17T20:19:36.861Z"
   },
   {
    "duration": 543,
    "start_time": "2022-02-17T20:19:36.869Z"
   }
  ],
  "kernelspec": {
   "display_name": "Python 3 (ipykernel)",
   "language": "python",
   "name": "python3"
  },
  "language_info": {
   "codemirror_mode": {
    "name": "ipython",
    "version": 3
   },
   "file_extension": ".py",
   "mimetype": "text/x-python",
   "name": "python",
   "nbconvert_exporter": "python",
   "pygments_lexer": "ipython3",
   "version": "3.10.0"
  },
  "toc": {
   "base_numbering": 1,
   "nav_menu": {},
   "number_sections": true,
   "sideBar": true,
   "skip_h1_title": true,
   "title_cell": "Содержание",
   "title_sidebar": "Contents",
   "toc_cell": true,
   "toc_position": {
    "height": "calc(100% - 180px)",
    "left": "10px",
    "top": "150px",
    "width": "165px"
   },
   "toc_section_display": true,
   "toc_window_display": true
  }
 },
 "nbformat": 4,
 "nbformat_minor": 2
}
